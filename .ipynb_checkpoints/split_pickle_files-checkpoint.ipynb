{
 "cells": [
  {
   "cell_type": "code",
   "execution_count": 1,
   "id": "ec9b27f2-22eb-40ab-888d-c4c096517b4f",
   "metadata": {},
   "outputs": [
    {
     "name": "stdout",
     "output_type": "stream",
     "text": [
      "Largest LFS-tracked files by size:\n",
      "35.80 MB - aia1700_data_interval1_part1.pickle\n",
      "35.79 MB - aia1700_data_interval1_part2.pickle\n",
      "35.79 MB - aia1700_data_interval1_part3.pickle\n",
      "35.79 MB - aia1700_data_interval1_part4.pickle\n",
      "35.79 MB - aia1700_data_interval1_part5.pickle\n",
      "256.09 MB - aia1700_matched_interval1_part1.pickle\n",
      "320.11 MB - aia1700_matched_interval1_part2.pickle\n",
      "320.11 MB - aia1700_matched_interval1_part3.pickle\n",
      "256.09 MB - aia1700_matched_interval1_part4.pickle\n",
      "320.11 MB - aia1700_matched_interval1_part5.pickle\n",
      "17.91 MB - aia171_data_interval1_part1.pickle\n",
      "17.90 MB - aia171_data_interval1_part10.pickle\n",
      "17.90 MB - aia171_data_interval1_part2.pickle\n",
      "17.90 MB - aia171_data_interval1_part3.pickle\n",
      "17.90 MB - aia171_data_interval1_part4.pickle\n",
      "17.90 MB - aia171_data_interval1_part5.pickle\n",
      "17.90 MB - aia171_data_interval1_part6.pickle\n",
      "17.90 MB - aia171_data_interval1_part7.pickle\n",
      "17.90 MB - aia171_data_interval1_part8.pickle\n",
      "17.90 MB - aia171_data_interval1_part9.pickle\n",
      "1792.33 MB - aia171_matched_interval1_part1.pickle\n",
      "1856.34 MB - aia171_matched_interval1_part10.pickle\n",
      "1856.34 MB - aia171_matched_interval1_part2.pickle\n",
      "1856.34 MB - aia171_matched_interval1_part3.pickle\n",
      "1920.35 MB - aia171_matched_interval1_part4.pickle\n",
      "1856.34 MB - aia171_matched_interval1_part5.pickle\n",
      "1856.34 MB - aia171_matched_interval1_part6.pickle\n",
      "1856.34 MB - aia171_matched_interval1_part7.pickle\n",
      "1856.34 MB - aia171_matched_interval1_part8.pickle\n",
      "1856.34 MB - aia171_matched_interval1_part9.pickle\n",
      "44.75 MB - eui174_data_interval1_part1.pickle\n",
      "44.74 MB - eui174_data_interval1_part2.pickle\n",
      "44.74 MB - eui174_data_interval1_part3.pickle\n",
      "44.74 MB - eui174_data_interval1_part4.pickle\n",
      "1442.09 MB - eui174_matched_interval1_part1.pickle\n",
      "1442.09 MB - eui174_matched_interval1_part2.pickle\n",
      "1442.09 MB - eui174_matched_interval1_part3.pickle\n",
      "1442.09 MB - eui174_matched_interval1_part4.pickle\n",
      "332.03 MB - gifs/.ipynb_checkpoints/aia_and_eui_and_iris-checkpoint.gif\n",
      "216.11 MB - gifs/.ipynb_checkpoints/aia_and_eui_roi_1_interval1-checkpoint.gif\n",
      "203.14 MB - gifs/.ipynb_checkpoints/eui_fullFOV_interval1-checkpoint.gif\n",
      "95.56 MB - gifs/.ipynb_checkpoints/eui_roi_1_interval1-checkpoint.gif\n",
      "95.40 MB - gifs/.ipynb_checkpoints/eui_stable_roi_1-checkpoint.gif\n",
      "332.03 MB - gifs/aia_and_eui_and_iris.gif\n",
      "216.11 MB - gifs/aia_and_eui_roi_1_interval1.gif\n",
      "3.90 MB - gifs/eui_and_iris.gif\n",
      "217.85 MB - gifs/eui_and_iris_interval1.gif\n",
      "203.14 MB - gifs/eui_fullFOV_interval1.gif\n",
      "188.72 MB - gifs/eui_iris_matchedFOV_interval1.gif\n",
      "95.56 MB - gifs/eui_roi_1_interval1.gif\n",
      "169.69 MB - gifs/eui_rotated_and_iris_matchedFOV_interval1.gif\n",
      "95.03 MB - gifs/eui_stable_roi_1.gif\n",
      "59.67 MB - iris1400_data_interval1_part1.pickle\n",
      "59.66 MB - iris1400_data_interval1_part2.pickle\n",
      "59.66 MB - iris1400_data_interval1_part3.pickle\n",
      "105.22 MB - iris1400_matched_interval1_part1.pickle\n",
      "105.22 MB - iris1400_matched_interval1_part2.pickle\n",
      "105.22 MB - iris1400_matched_interval1_part3.pickle\n"
     ]
    }
   ],
   "source": [
    "from pathlib import Path\n",
    "\n",
    "import subprocess\n",
    "\n",
    "print(\"Largest LFS-tracked files by size:\")\n",
    "output = subprocess.check_output([\"git\", \"lfs\", \"ls-files\"], text=True)\n",
    "\n",
    "for line in output.splitlines():\n",
    "    if '*' in line:\n",
    "        _, path = line.strip().split('*', 1)\n",
    "        path = path.strip()\n",
    "        file_path = Path(path)\n",
    "        if file_path.exists():\n",
    "            size_mb = file_path.stat().st_size / 1024 / 1024\n",
    "            print(f\"{size_mb:.2f} MB - {path}\")"
   ]
  },
  {
   "cell_type": "code",
   "execution_count": 4,
   "id": "72b63ed5-28de-4846-aa6c-e86be074fe97",
   "metadata": {},
   "outputs": [],
   "source": [
    "import pickle\n",
    "import math\n",
    "import sunpy.map"
   ]
  },
  {
   "cell_type": "code",
   "execution_count": 3,
   "id": "7615d52d-a527-4e73-b361-c8a6481b85b7",
   "metadata": {},
   "outputs": [
    {
     "ename": "UnpicklingError",
     "evalue": "invalid load key, 'v'.",
     "output_type": "error",
     "traceback": [
      "\u001b[0;31m---------------------------------------------------------------------------\u001b[0m",
      "\u001b[0;31mUnpicklingError\u001b[0m                           Traceback (most recent call last)",
      "Cell \u001b[0;32mIn[3], line 3\u001b[0m\n\u001b[1;32m      1\u001b[0m \u001b[38;5;66;03m# load the large sequences (~6 GB)\u001b[39;00m\n\u001b[1;32m      2\u001b[0m \u001b[38;5;28;01mwith\u001b[39;00m \u001b[38;5;28mopen\u001b[39m(\u001b[38;5;124m\"\u001b[39m\u001b[38;5;124meui174_matched_interval1.pickle\u001b[39m\u001b[38;5;124m\"\u001b[39m, \u001b[38;5;124m\"\u001b[39m\u001b[38;5;124mrb\u001b[39m\u001b[38;5;124m\"\u001b[39m) \u001b[38;5;28;01mas\u001b[39;00m f:\n\u001b[0;32m----> 3\u001b[0m     map_sequence \u001b[38;5;241m=\u001b[39m \u001b[43mpickle\u001b[49m\u001b[38;5;241;43m.\u001b[39;49m\u001b[43mload\u001b[49m\u001b[43m(\u001b[49m\u001b[43mf\u001b[49m\u001b[43m)\u001b[49m\n\u001b[1;32m      5\u001b[0m maps \u001b[38;5;241m=\u001b[39m \u001b[38;5;28mlist\u001b[39m(map_sequence)\n\u001b[1;32m      7\u001b[0m \u001b[38;5;66;03m# number of chunks\u001b[39;00m\n",
      "\u001b[0;31mUnpicklingError\u001b[0m: invalid load key, 'v'."
     ]
    }
   ],
   "source": [
    "# load the large sequences (~6 GB)\n",
    "with open(\"eui174_matched_interval1.pickle\", \"rb\") as f:\n",
    "    map_sequence = pickle.load(f)\n",
    "\n",
    "maps = list(map_sequence)\n",
    "\n",
    "# number of chunks\n",
    "n_chunks = 4\n",
    "chunk_size = math.ceil(len(maps) / n_chunks)\n",
    "\n",
    "for i in range(n_chunks):\n",
    "    start = i * chunk_size\n",
    "    end = min((i + 1) * chunk_size, len(maps))\n",
    "    chunk = maps[start:end]\n",
    "    \n",
    "    chunk_seq = sunpy.map.Map(chunk, sequence=True)\n",
    "    \n",
    "    with open(f\"eui174_part{i+1}.pickle\", \"wb\") as f_out:\n",
    "        pickle.dump(chunk_seq, f_out)\n",
    "\n",
    "# load the large sequence (~18 GB)\n",
    "with open(\"aia171_matched_interval1.pickle\", \"rb\") as f:\n",
    "    data = pickle.load(f)\n",
    "\n",
    "# number of chunks\n",
    "n_chunks = 10\n",
    "chunk_size = math.ceil(len(data) / n_chunks)\n",
    "\n",
    "# save each chunk\n",
    "for i in range(n_chunks):\n",
    "    start = i * chunk_size\n",
    "    end = min((i + 1) * chunk_size, len(data))\n",
    "    chunk = data[start:end]\n",
    "    \n",
    "    with open(f\"aia171_part{i+1}.pickle\", \"wb\") as f_out:\n",
    "        pickle.dump(chunk, f_out)"
   ]
  },
  {
   "cell_type": "code",
   "execution_count": 5,
   "id": "7273bfef-5140-48a7-acc3-2e1dea55fb57",
   "metadata": {},
   "outputs": [
    {
     "ename": "SyntaxError",
     "evalue": "invalid syntax (2570615244.py, line 1)",
     "output_type": "error",
     "traceback": [
      "\u001b[0;36m  Cell \u001b[0;32mIn[5], line 1\u001b[0;36m\u001b[0m\n\u001b[0;31m    file eui174_matched_interval1.pickle\u001b[0m\n\u001b[0m         ^\u001b[0m\n\u001b[0;31mSyntaxError\u001b[0m\u001b[0;31m:\u001b[0m invalid syntax\n"
     ]
    }
   ],
   "source": [
    "file eui174_matched_interval1.pickle"
   ]
  },
  {
   "cell_type": "code",
   "execution_count": 6,
   "id": "a46612ce-279b-4e42-b0c0-f25d9fea755f",
   "metadata": {},
   "outputs": [
    {
     "name": "stdout",
     "output_type": "stream",
     "text": [
      "-rw-r--r--  1 ellisernsberger  staff   135B Jun 23 13:19 eui174_matched_interval1.pickle\n"
     ]
    }
   ],
   "source": [
    "ls -lh eui174_matched_interval1.pickle"
   ]
  },
  {
   "cell_type": "code",
   "execution_count": 7,
   "id": "d7530d11-8230-468a-8a37-6a5f55d632e4",
   "metadata": {},
   "outputs": [
    {
     "ename": "SyntaxError",
     "evalue": "invalid syntax (2322980407.py, line 1)",
     "output_type": "error",
     "traceback": [
      "\u001b[0;36m  Cell \u001b[0;32mIn[7], line 1\u001b[0;36m\u001b[0m\n\u001b[0;31m    head -c 20 eui174_matched_interval1.pickle\u001b[0m\n\u001b[0m            ^\u001b[0m\n\u001b[0;31mSyntaxError\u001b[0m\u001b[0;31m:\u001b[0m invalid syntax\n"
     ]
    }
   ],
   "source": [
    "head -c 20 eui174_matched_interval1.pickle"
   ]
  },
  {
   "cell_type": "code",
   "execution_count": 8,
   "id": "43297e54-cdb6-4037-bad9-cc69db35b8ce",
   "metadata": {},
   "outputs": [
    {
     "name": "stdout",
     "output_type": "stream",
     "text": [
      "File size: 0.00 GB\n"
     ]
    }
   ],
   "source": [
    "from pathlib import Path\n",
    "\n",
    "with open(\"eui174_matched_interval1.pickle\", \"rb\") as f:\n",
    "    content = f.read()\n",
    "\n",
    "print(f\"File size: {len(content)/1e9:.2f} GB\")"
   ]
  },
  {
   "cell_type": "code",
   "execution_count": null,
   "id": "030c44be-1c5b-4e08-b93b-65272839f4ad",
   "metadata": {},
   "outputs": [],
   "source": []
  }
 ],
 "metadata": {
  "kernelspec": {
   "display_name": "Python 3 (ipykernel)",
   "language": "python",
   "name": "python3"
  },
  "language_info": {
   "codemirror_mode": {
    "name": "ipython",
    "version": 3
   },
   "file_extension": ".py",
   "mimetype": "text/x-python",
   "name": "python",
   "nbconvert_exporter": "python",
   "pygments_lexer": "ipython3",
   "version": "3.10.18"
  }
 },
 "nbformat": 4,
 "nbformat_minor": 5
}
